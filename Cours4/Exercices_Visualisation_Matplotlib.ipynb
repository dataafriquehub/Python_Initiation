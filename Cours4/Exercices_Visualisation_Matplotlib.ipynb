{
 "cells": [
  {
   "cell_type": "markdown",
   "id": "543d9946",
   "metadata": {},
   "source": [
    "# Exercices de Visualisation de Données avec Matplotlib\n",
    "\n",
    "Ce notebook contient une série d'exercices conçus pour vous familiariser avec la visualisation de données en utilisant Matplotlib en Python. \n",
    "Vous travaillerez avec un jeu de données sur le PIB par habitant pour différents pays et régions. Ce jeu de données à été utilisé durant le cours de visualisation."
   ]
  },
  {
   "cell_type": "code",
   "execution_count": null,
   "id": "748ee3cf",
   "metadata": {},
   "outputs": [],
   "source": [
    "import matplotlib.pyplot as plt\n",
    "import pandas as pd"
   ]
  },
  {
   "cell_type": "code",
   "execution_count": null,
   "id": "d88e9243",
   "metadata": {},
   "outputs": [],
   "source": [
    "#chargement des données.\n",
    "data = pd.read_csv(\"https://raw.githubusercontent.com/dataafriquehub/Python_Initiation/main/Cours4/data-wb.csv\")\n",
    "data.head()"
   ]
  },
  {
   "cell_type": "markdown",
   "id": "75e10d71",
   "metadata": {},
   "source": [
    "## Exercice 1: Introduction aux Types de Diagrammes\n",
    "\n",
    "**Définissez brièvement les types de diagrammes suivants:**\n",
    "1. Line Chart (Graphique en Ligne)\n",
    "2. Histogramme\n",
    "3. Diagramme en Barres\n",
    "4. Diagramme de Dispersion (Scatter Plot)\n",
    "5. Diagramme Circulaire (Pie Chart)"
   ]
  },
  {
   "cell_type": "markdown",
   "id": "df32da00",
   "metadata": {},
   "source": [
    "*Votre réponse ici*\n",
    "* ...\n"
   ]
  },
  {
   "cell_type": "markdown",
   "id": "fbb4e804",
   "metadata": {},
   "source": [
    "## Exercice 2: Fonctions Matplotlib pour Différents Diagrammes\n",
    "\n",
    "**Listez les principales fonctions de Matplotlib utilisées pour créer les types de diagrammes suivants:**\n",
    "1. Line Chart\n",
    "2. Histogramme\n",
    "3. Diagramme en Barres\n",
    "4. Diagramme de Dispersion\n",
    "5. Diagramme Circulaire"
   ]
  },
  {
   "cell_type": "markdown",
   "id": "40adb72c",
   "metadata": {},
   "source": [
    "*Votre réponse ici*\n",
    "* ...\n"
   ]
  },
  {
   "cell_type": "markdown",
   "id": "11a07bc1",
   "metadata": {},
   "source": [
    "## Exercice 3: Création de Diagrammes avec les Données Fournies\n",
    "\n",
    "**Utilisez les données fournies pour créer les diagrammes suivants:**\n",
    "1. Un Line Chart montrant l'évolution du PIB par habitant d'un pays ou d'une région spécifique sur une période choisie.\n",
    "2. Un Histogramme représentant la distribution du PIB par habitant pour tous les pays pour une année spécifique.\n",
    "3. Un Diagramme en Barres pour comparer le PIB par habitant de plusieurs pays ou régions pour une année donnée.\n",
    "4. Un Diagramme de Dispersion pour examiner la relation entre le PIB par habitant de deux régions différentes sur une période de temps.\n",
    "5. Un Diagramme Circulaire pour montrer la répartition du PIB par habitant entre différents pays ou régions pour une année spécifique."
   ]
  },
  {
   "cell_type": "markdown",
   "id": "5907295c",
   "metadata": {},
   "source": [
    "<div class=\"alert alert-info\" role=\"alert\">\n",
    "  <p style=\"color: red; font-size: 2.1em; text-align: center;\">\n",
    "    Attention\n",
    "  </p>\n",
    "\n",
    "  <p>\n",
    "  <ul>\n",
    "      <li><span style=\"color: red\">ⓧ</span> Vous ne devez pas reproduire exactement ce qui a été fait durant le cours..</li>\n",
    "      <li><span style=\"color: red\">ⓧ</span> Vous devez construire vos diagrammes sur les informations concernant d'autres pays, d'autre régions et  des années différentes des celles utilisées dans le cours..</li>\n",
    "    </ul>\n",
    "</div>"
   ]
  },
  {
   "cell_type": "markdown",
   "id": "d79e15d0",
   "metadata": {},
   "source": [
    "### 1- Line chart"
   ]
  },
  {
   "cell_type": "code",
   "execution_count": null,
   "id": "d5c6c579",
   "metadata": {},
   "outputs": [],
   "source": [
    "# votre reponse ici\n"
   ]
  },
  {
   "cell_type": "markdown",
   "id": "47b1a682",
   "metadata": {},
   "source": [
    "### 2- Histogramme"
   ]
  },
  {
   "cell_type": "code",
   "execution_count": null,
   "id": "73f2552e",
   "metadata": {},
   "outputs": [],
   "source": [
    "# votre reponse ici\n"
   ]
  },
  {
   "cell_type": "markdown",
   "id": "3bf0b8cc",
   "metadata": {},
   "source": [
    "### 3- Diagramme en barre"
   ]
  },
  {
   "cell_type": "code",
   "execution_count": null,
   "id": "5cc92c75",
   "metadata": {},
   "outputs": [],
   "source": [
    "# votre reponse ici\n"
   ]
  },
  {
   "cell_type": "markdown",
   "id": "2661677c",
   "metadata": {},
   "source": [
    "### 4- Diagramme de dispersion"
   ]
  },
  {
   "cell_type": "code",
   "execution_count": null,
   "id": "96d61e7c",
   "metadata": {},
   "outputs": [],
   "source": [
    "# votre reponse ici\n"
   ]
  },
  {
   "cell_type": "markdown",
   "id": "4965a9ee",
   "metadata": {},
   "source": [
    "### 5- Diagramme circulaire"
   ]
  },
  {
   "cell_type": "code",
   "execution_count": null,
   "id": "b7dda109",
   "metadata": {},
   "outputs": [],
   "source": [
    "# votre reponse ici\n"
   ]
  },
  {
   "cell_type": "markdown",
   "id": "7d9d4c99",
   "metadata": {},
   "source": [
    "#### Congratulation!!!! You're made it. You are Data Scientist now... 🎉👏🎊"
   ]
  },
  {
   "cell_type": "markdown",
   "id": "9defcf46",
   "metadata": {},
   "source": [
    "\n",
    "---\n",
    "Copyright 2024 DataAfrique Hub."
   ]
  }
 ],
 "metadata": {
  "kernelspec": {
   "display_name": "Python 3",
   "language": "python",
   "name": "python3"
  },
  "language_info": {
   "codemirror_mode": {
    "name": "ipython",
    "version": 3
   },
   "file_extension": ".py",
   "mimetype": "text/x-python",
   "name": "python",
   "nbconvert_exporter": "python",
   "pygments_lexer": "ipython3",
   "version": "3.12.1"
  }
 },
 "nbformat": 4,
 "nbformat_minor": 5
}

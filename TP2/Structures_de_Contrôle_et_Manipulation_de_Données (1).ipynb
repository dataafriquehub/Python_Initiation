{
  "cells": [
    {
      "cell_type": "markdown",
      "metadata": {
        "id": "mc-EcvradiEm"
      },
      "source": [
        "# Structures de Controle\n",
        "\n",
        "Les structures de contrôle sont des instructions qui permettent de contrôler le flux d'exécution d'un programme. Elles sont essentielles pour la programmation car elles permettent de réaliser des tâches complexes, telles que la prise de décision, la répétition et la sélection de données. Il existe 3 principales **structures de controle** pour créer des algorithmes.\n",
        "- Les alternatives **If / Else**\n",
        "- Les boucles **For**\n",
        "- Les boucles **While**"
      ]
    },
    {
      "cell_type": "markdown",
      "metadata": {
        "id": "GCRRr0YTdpRc"
      },
      "source": [
        "## 1. Alternatives If / Else :\n",
        " Permettent de conditionner l'exécution d'un bloc de code en fonction de la valeur d'une condition."
      ]
    },
    {
      "cell_type": "code",
      "execution_count": null,
      "metadata": {
        "id": "36oymtgkdebr"
      },
      "outputs": [],
      "source": [
        "def test_du_signe(valeur):\n",
        "  if valeur < 0:\n",
        "    print('négatif')\n",
        "  elif valeur == 0:\n",
        "    print('nul')\n",
        "  else:\n",
        "    print('positif')"
      ]
    },
    {
      "cell_type": "code",
      "execution_count": null,
      "metadata": {
        "colab": {
          "base_uri": "https://localhost:8080/",
          "height": 34
        },
        "id": "eCbpqCywfazE",
        "outputId": "5f69f649-4092-473e-ed5a-2f97203b2752"
      },
      "outputs": [
        {
          "name": "stdout",
          "output_type": "stream",
          "text": [
            "négatif\n"
          ]
        }
      ],
      "source": [
        "test_du_signe(-2)"
      ]
    },
    {
      "cell_type": "markdown",
      "metadata": {
        "id": "CaHzgd9lfq5o"
      },
      "source": []
    },
    {
      "cell_type": "markdown",
      "source": [
        "**Note importante : Une condition est respectée si et seulement si elle correspond au résultat **booléen True**.**"
      ],
      "metadata": {
        "id": "BQO0WqSsbQVX"
      }
    },
    {
      "cell_type": "markdown",
      "metadata": {
        "id": "EPk6O53vhZkW"
      },
      "source": [
        "Cela permet de développer des algorithmes avec des mélanges d'opéations Logiques et d'opérations de comparaisons. Par exemple : *si il fait beau et qu'il faut chaud, alors j'irai me baigner*"
      ]
    },
    {
      "cell_type": "code",
      "source": [
        "def aller_se_baigner(fait_beau, fait_chaud):\n",
        "    if fait_beau and fait_chaud:\n",
        "        print(\"J'irai me baigner !\")\n",
        "    else:\n",
        "        print(\"Je ne vais pas me baigner.\")\n",
        "\n",
        "# Appelons la fonction\n",
        "aller_se_baigner(fait_beau=True, fait_chaud=True)\n"
      ],
      "metadata": {
        "id": "Qad1JZnEx_Zi"
      },
      "execution_count": null,
      "outputs": []
    },
    {
      "cell_type": "markdown",
      "source": [
        "**EXEMPLE  1**\n",
        "\n",
        "Écrivez un programme qui demande à l'utilisateur de saisir un nombre. Si le nombre est pair, le programme doit afficher la chaîne \"Le nombre est pair\". Sinon, le programme doit afficher la chaîne \"Le nombre est impair\""
      ],
      "metadata": {
        "id": "cIcMNnlPdoTz"
      }
    },
    {
      "cell_type": "code",
      "source": [
        "# Demandons à l'utilisateur de saisir un nombre\n",
        "nombre = input(\"Saisissez un nombre : \")\n",
        "\n",
        "# Convertissons le nombre en entier\n",
        "nombre = int(nombre)\n",
        "\n",
        "# Testons si le nombre est pair\n",
        "if nombre % 2 == 0:\n",
        "    # Si oui, affichons le message approprié\n",
        "    print(\"Le nombre est pair\")\n",
        "else:\n",
        "    # Sinon, affichons le message approprié\n",
        "    print(\"Le nombre est impair\")"
      ],
      "metadata": {
        "id": "h6NiKkqZe6o6"
      },
      "execution_count": null,
      "outputs": []
    },
    {
      "cell_type": "code",
      "source": [],
      "metadata": {
        "id": "s1KAkToDe7OD"
      },
      "execution_count": null,
      "outputs": []
    },
    {
      "cell_type": "markdown",
      "metadata": {
        "id": "X7ySgVEwhbFd"
      },
      "source": [
        "## 2. Boucle For\n",
        "Une boucle for permet de créer des algorithmes itératifs (qui effectuent une certaine tache plusieurs fois de suite). Pour ca, la boucle parcourt tous les éléments d'un objet dit **itérable**. Il peut s'agir d'une liste, d'un dictionnaire, d'un range, d'un tableau numpy, ou de bien d'autres objets..."
      ]
    },
    {
      "cell_type": "code",
      "execution_count": null,
      "metadata": {
        "colab": {
          "base_uri": "https://localhost:8080/",
          "height": 187
        },
        "id": "4O5B4LHbhMze",
        "outputId": "6c890d52-f5fe-4ed7-e674-314687a88d70"
      },
      "outputs": [
        {
          "name": "stdout",
          "output_type": "stream",
          "text": [
            "0\n",
            "1\n",
            "2\n",
            "3\n",
            "4\n",
            "5\n",
            "6\n",
            "7\n",
            "8\n",
            "9\n"
          ]
        }
      ],
      "source": [
        "for i in range(0, 10):\n",
        "  print(i)"
      ]
    },
    {
      "cell_type": "code",
      "execution_count": null,
      "metadata": {
        "colab": {
          "base_uri": "https://localhost:8080/",
          "height": 357
        },
        "id": "aZSpQmXRjJGx",
        "outputId": "87cbbc20-302d-42b3-aa70-c2f8ef4e8ef9"
      },
      "outputs": [
        {
          "name": "stdout",
          "output_type": "stream",
          "text": [
            "-10\n",
            "négatif\n",
            "-8\n",
            "négatif\n",
            "-6\n",
            "négatif\n",
            "-4\n",
            "négatif\n",
            "-2\n",
            "négatif\n",
            "0\n",
            "nul\n",
            "2\n",
            "positif\n",
            "4\n",
            "positif\n",
            "6\n",
            "positif\n",
            "8\n",
            "positif\n"
          ]
        }
      ],
      "source": [
        "# on peut s'amuser a combiner cette boucle avec notre fonction de tout a l'heure.\n",
        "for i in range(-10, 10, 2):\n",
        "  print(i)\n",
        "  test_du_signe(i)"
      ]
    },
    {
      "cell_type": "code",
      "source": [],
      "metadata": {
        "id": "KOc5y5qOfgVR"
      },
      "execution_count": null,
      "outputs": []
    },
    {
      "cell_type": "markdown",
      "source": [
        "**Exemple 2**\n",
        "\n",
        "Écrivez un programme Python qui calcule la somme des nombres de 1 à 10."
      ],
      "metadata": {
        "id": "r9U7soiXfsry"
      }
    },
    {
      "cell_type": "code",
      "source": [
        "# Initialisons la variable somme\n",
        "somme = 0\n",
        "\n",
        "# Pour chaque nombre de 1 à 10, ajoutons-le à la somme\n",
        "for i in range(1, 11):\n",
        "    somme += i\n",
        "\n",
        "# Affichons la somme\n",
        "print(somme)"
      ],
      "metadata": {
        "colab": {
          "base_uri": "https://localhost:8080/"
        },
        "id": "lFmLUEnLf-3t",
        "outputId": "d07e7527-2461-4d65-c36b-c4708bf336ca"
      },
      "execution_count": null,
      "outputs": [
        {
          "output_type": "stream",
          "name": "stdout",
          "text": [
            "55\n"
          ]
        }
      ]
    },
    {
      "cell_type": "markdown",
      "metadata": {
        "id": "_saAMgPukHO-"
      },
      "source": [
        "## 3. Boucle While\n",
        "Une boucle While permet d'effectuer en boucle une action, tant que la condition d'execution est validée (tant que la condition est **True**)"
      ]
    },
    {
      "cell_type": "code",
      "execution_count": null,
      "metadata": {
        "colab": {
          "base_uri": "https://localhost:8080/",
          "height": 187
        },
        "id": "M8qYGgBkj3m9",
        "outputId": "cb4df7df-e53c-4a74-ed59-7a83a72f4540"
      },
      "outputs": [
        {
          "name": "stdout",
          "output_type": "stream",
          "text": [
            "0\n",
            "1\n",
            "2\n",
            "3\n",
            "4\n",
            "5\n",
            "6\n",
            "7\n",
            "8\n",
            "9\n"
          ]
        }
      ],
      "source": [
        "x = 0\n",
        "while x < 10:\n",
        "  print(x)\n",
        "  x += 1 # incrémente x de 1 (équivalent de x = x+1)"
      ]
    },
    {
      "cell_type": "code",
      "source": [],
      "metadata": {
        "id": "y0XIO-sMgj7p"
      },
      "execution_count": null,
      "outputs": []
    },
    {
      "cell_type": "markdown",
      "source": [
        "**Exemple 3**\n",
        "\n",
        "Écrivez un programme qui demande à l'utilisateur de saisir un nombre. Le programme doit ensuite afficher tous les nombres pairs inférieurs ou égaux au nombre saisi."
      ],
      "metadata": {
        "id": "Qjyd8EMGglnd"
      }
    },
    {
      "cell_type": "code",
      "source": [
        "# Demandons à l'utilisateur de saisir un nombre\n",
        "nombre = input(\"Saisissez un nombre : \")\n",
        "\n",
        "# Convertissons le nombre en entier\n",
        "nombre = int(nombre)\n",
        "\n",
        "# Initialisons la variable compteur\n",
        "compteur = 0\n",
        "\n",
        "# Tant que le compteur est inférieur ou égal au nombre saisi, continuons\n",
        "while compteur <= nombre:\n",
        "    # Si le compteur est pair, affichons-le\n",
        "    if compteur % 2 == 0:\n",
        "        print(compteur)\n",
        "    # Incrémentons le compteur\n",
        "    compteur += 1"
      ],
      "metadata": {
        "id": "CqcExD3hgkHo"
      },
      "execution_count": null,
      "outputs": []
    },
    {
      "cell_type": "markdown",
      "source": [
        "**Numpy : Tableau ndarray**"
      ],
      "metadata": {
        "id": "_wXhFqnx_2uF"
      }
    },
    {
      "cell_type": "code",
      "source": [
        "import numpy as np"
      ],
      "metadata": {
        "id": "1PdFcHgZ-RlJ"
      },
      "execution_count": null,
      "outputs": []
    },
    {
      "cell_type": "markdown",
      "source": [
        "**Création des données avec numpy**\n",
        "\n",
        "\n",
        "Créer un numpy array avec une liste/liste de liste (matrice)"
      ],
      "metadata": {
        "id": "SbNhK5SsBgc9"
      }
    },
    {
      "cell_type": "code",
      "source": [
        "# Création à partir d'une liste\n",
        "liste = [1, 2, 3, 4, 5, 6, 7, 8, 9]  # Définition de la liste d'élément\n",
        "array_liste = np.array(liste)\n",
        "print(array_liste)  # affiche le numpy array"
      ],
      "metadata": {
        "id": "qmjvAvx4-Rxd",
        "colab": {
          "base_uri": "https://localhost:8080/"
        },
        "outputId": "14995aad-da74-4ae0-fce8-785de661ce43"
      },
      "execution_count": null,
      "outputs": [
        {
          "output_type": "stream",
          "name": "stdout",
          "text": [
            "[1 2 3 4 5 6 7 8 9]\n"
          ]
        }
      ]
    },
    {
      "cell_type": "code",
      "source": [
        "# Création à partir d'une matrice"
      ],
      "metadata": {
        "id": "pE8KA23i-R0l"
      },
      "execution_count": null,
      "outputs": []
    },
    {
      "cell_type": "code",
      "source": [
        "# Création d'un numpy array à partir d'une liste de listes (matrice)\n",
        "matrice = [[1, 2, 3], [4, 5, 6], [7, 8, 9], [10,  11, 12]]\n",
        "array_matrice = np.array(matrice)\n",
        "print(array_matrice)"
      ],
      "metadata": {
        "id": "i8E8KRIU-R3q",
        "colab": {
          "base_uri": "https://localhost:8080/"
        },
        "outputId": "ec8d6749-9f60-4d9b-902a-a4c5124ab03b"
      },
      "execution_count": null,
      "outputs": [
        {
          "output_type": "stream",
          "name": "stdout",
          "text": [
            "[[ 1  2  3]\n",
            " [ 4  5  6]\n",
            " [ 7  8  9]\n",
            " [10 11 12]]\n"
          ]
        }
      ]
    },
    {
      "cell_type": "markdown",
      "source": [
        "**Créer un numpy array à partir des fonctions intégrées**\n"
      ],
      "metadata": {
        "id": "dBeS3nJACFDW"
      }
    },
    {
      "cell_type": "code",
      "source": [
        "#Créer un numpy array à partir de la fonction zeros\n",
        "array_zeros = np.zeros((4,4))\n",
        "print(array_zeros)"
      ],
      "metadata": {
        "id": "0RD9b0Dq-R9g",
        "colab": {
          "base_uri": "https://localhost:8080/"
        },
        "outputId": "689b99eb-3cfb-4405-e616-ce77f9a800c3"
      },
      "execution_count": null,
      "outputs": [
        {
          "output_type": "stream",
          "name": "stdout",
          "text": [
            "[[0. 0. 0. 0.]\n",
            " [0. 0. 0. 0.]\n",
            " [0. 0. 0. 0.]\n",
            " [0. 0. 0. 0.]]\n"
          ]
        }
      ]
    },
    {
      "cell_type": "code",
      "source": [
        "#Créer un numpy array à partir de la fonction ones\n",
        "array_ones = np.ones((3,2))\n",
        "print(array_ones)"
      ],
      "metadata": {
        "id": "lPsXtbHF-SAR",
        "colab": {
          "base_uri": "https://localhost:8080/"
        },
        "outputId": "16442751-4ef0-4639-8a85-98284e1a6520"
      },
      "execution_count": null,
      "outputs": [
        {
          "output_type": "stream",
          "name": "stdout",
          "text": [
            "[[1. 1.]\n",
            " [1. 1.]\n",
            " [1. 1.]]\n"
          ]
        }
      ]
    },
    {
      "cell_type": "code",
      "source": [
        "#Créer un numpy array avec la fonction eye\n",
        "array_eye = np.eye(3)#Pour créer la matrice identité\n",
        "array_eye"
      ],
      "metadata": {
        "id": "uy8NjqDF-SDH",
        "colab": {
          "base_uri": "https://localhost:8080/"
        },
        "outputId": "a9b8cfdc-8b66-4793-e71c-257c699f72f6"
      },
      "execution_count": null,
      "outputs": [
        {
          "output_type": "execute_result",
          "data": {
            "text/plain": [
              "array([[1., 0., 0.],\n",
              "       [0., 1., 0.],\n",
              "       [0., 0., 1.]])"
            ]
          },
          "metadata": {},
          "execution_count": 12
        }
      ]
    },
    {
      "cell_type": "code",
      "source": [
        "#Créer un numpy array avec la fonction arange\n",
        "array_arange = np.arange(0, 11)\n",
        "array_arange"
      ],
      "metadata": {
        "id": "ZSP7pUuj-SFt",
        "colab": {
          "base_uri": "https://localhost:8080/"
        },
        "outputId": "5c98bd80-aa28-4541-c43a-4e39373b54da"
      },
      "execution_count": null,
      "outputs": [
        {
          "output_type": "execute_result",
          "data": {
            "text/plain": [
              "array([ 0,  1,  2,  3,  4,  5,  6,  7,  8,  9, 10])"
            ]
          },
          "metadata": {},
          "execution_count": 20
        }
      ]
    },
    {
      "cell_type": "code",
      "source": [
        "#Créer un numpy array avec la fonction linspace\n",
        "#entre deux valeurs données avec un nombre de points donné\n",
        "array_linspace = np.linspace(0, 1, 20)#Très utile pour les graphiques\n",
        "array_linspace"
      ],
      "metadata": {
        "id": "zjnlrTCC-SIl",
        "colab": {
          "base_uri": "https://localhost:8080/"
        },
        "outputId": "3b3a7b46-31ef-4a3a-e825-2705299f701d"
      },
      "execution_count": null,
      "outputs": [
        {
          "output_type": "execute_result",
          "data": {
            "text/plain": [
              "array([0.        , 0.05263158, 0.10526316, 0.15789474, 0.21052632,\n",
              "       0.26315789, 0.31578947, 0.36842105, 0.42105263, 0.47368421,\n",
              "       0.52631579, 0.57894737, 0.63157895, 0.68421053, 0.73684211,\n",
              "       0.78947368, 0.84210526, 0.89473684, 0.94736842, 1.        ])"
            ]
          },
          "metadata": {},
          "execution_count": 21
        }
      ]
    },
    {
      "cell_type": "code",
      "source": [
        "# Créer un numpy array de valeurs aléatoires avec la fonction random\n",
        "#Utile pour initialiser les poids dans les réseaux de neurones, générer des données d'apprentissage synthétiques\n",
        "array_random = np.random.random((5,4))\n",
        "print(array_random)"
      ],
      "metadata": {
        "id": "Oa33k4d5-SLK",
        "colab": {
          "base_uri": "https://localhost:8080/"
        },
        "outputId": "034b8ee6-06b6-46e3-af89-903871e9a7ad"
      },
      "execution_count": null,
      "outputs": [
        {
          "output_type": "stream",
          "name": "stdout",
          "text": [
            "[[0.51912264 0.01048643 0.94342975 0.85742174]\n",
            " [0.7928877  0.58589245 0.01582001 0.87382869]\n",
            " [0.63833588 0.94296402 0.88759917 0.84538343]\n",
            " [0.31415968 0.48390603 0.69187053 0.55264551]\n",
            " [0.0394426  0.19261155 0.62026706 0.25602988]]\n"
          ]
        }
      ]
    },
    {
      "cell_type": "code",
      "source": [],
      "metadata": {
        "id": "bVNEH4XE-SN2"
      },
      "execution_count": null,
      "outputs": []
    },
    {
      "cell_type": "markdown",
      "source": [
        "**Fonctions mathématiques et statistiques avec Numpy**"
      ],
      "metadata": {
        "id": "Gvnfh26bCsw_"
      }
    },
    {
      "cell_type": "code",
      "source": [
        "#Fonction mathématiques basiques\n",
        "array1=array_liste\n",
        "array_sum = np.sum(array1)\n",
        "print (array_sum )\n",
        "array_mean = np.mean(array1)\n",
        "print (array_mean )\n",
        "array_std = np.std(array1)\n",
        "print (array_std )\n",
        "array_min = np.min(array1)\n",
        "print (array_min )\n",
        "array_max = np.max(array1)\n",
        "print (array_max)\n",
        "array_sqrt = np.sqrt(array1)\n",
        "print (array_sqrt)\n",
        "array_abs = np.abs(array1)\n",
        "print (array_abs)\n",
        "array_power = np.power(array1, 2)\n",
        "print (array_power)\n",
        "array_exp = np.exp(array1)\n",
        "print (array_exp)\n",
        "array_log = np.log(np.abs(array1))\n",
        "print (array_log)\n",
        "array_sin = np.sin(array1)\n",
        "print (array_sin)\n",
        "array_median = np.median(array1)\n",
        "print (array_median)\n"
      ],
      "metadata": {
        "id": "ILVSmRDE-SQw",
        "colab": {
          "base_uri": "https://localhost:8080/"
        },
        "outputId": "327ed1a7-4b90-47e3-94c8-93e9a948f0d8"
      },
      "execution_count": null,
      "outputs": [
        {
          "output_type": "stream",
          "name": "stdout",
          "text": [
            "36\n",
            "4.5\n",
            "2.29128784747792\n",
            "1\n",
            "8\n",
            "[1.         1.41421356 1.73205081 2.         2.23606798 2.44948974\n",
            " 2.64575131 2.82842712]\n",
            "[1 2 3 4 5 6 7 8]\n",
            "[ 1  4  9 16 25 36 49 64]\n",
            "[2.71828183e+00 7.38905610e+00 2.00855369e+01 5.45981500e+01\n",
            " 1.48413159e+02 4.03428793e+02 1.09663316e+03 2.98095799e+03]\n",
            "[0.         0.69314718 1.09861229 1.38629436 1.60943791 1.79175947\n",
            " 1.94591015 2.07944154]\n",
            "[ 0.84147098  0.90929743  0.14112001 -0.7568025  -0.95892427 -0.2794155\n",
            "  0.6569866   0.98935825]\n",
            "4.5\n"
          ]
        }
      ]
    },
    {
      "cell_type": "markdown",
      "source": [
        "**Manipulation des matrices avec Numpy**"
      ],
      "metadata": {
        "id": "jbi5PbDGDD9c"
      }
    },
    {
      "cell_type": "code",
      "source": [
        "# Produit matriciel\n",
        "matrice = [[1, 2, 3], [4, 5, 6], [7, 8, 9]]\n",
        "produit_matriciel = np.dot(matrice, matrice)\n",
        "print(produit_matriciel)"
      ],
      "metadata": {
        "id": "INNBa5VC-SfF",
        "colab": {
          "base_uri": "https://localhost:8080/"
        },
        "outputId": "4a4a1d4f-1d6d-487a-b50b-fd8909d6da11"
      },
      "execution_count": null,
      "outputs": [
        {
          "output_type": "stream",
          "name": "stdout",
          "text": [
            "[[ 30  36  42]\n",
            " [ 66  81  96]\n",
            " [102 126 150]]\n"
          ]
        }
      ]
    },
    {
      "cell_type": "code",
      "source": [
        "# Transposée\n",
        "transposee = np.transpose(matrice)\n",
        "print(transposee)"
      ],
      "metadata": {
        "id": "gIfTur6UDGvx",
        "colab": {
          "base_uri": "https://localhost:8080/"
        },
        "outputId": "75b05005-17d5-4786-b65c-ff51e0803ea8"
      },
      "execution_count": null,
      "outputs": [
        {
          "output_type": "stream",
          "name": "stdout",
          "text": [
            "[[1 4 7]\n",
            " [2 5 8]\n",
            " [3 6 9]]\n"
          ]
        }
      ]
    },
    {
      "cell_type": "code",
      "source": [
        "#Déterminant\n",
        "determinant=np.linalg.det(array_eye)\n",
        "print(determinant)"
      ],
      "metadata": {
        "colab": {
          "base_uri": "https://localhost:8080/"
        },
        "id": "ALWxZ3jlH-iR",
        "outputId": "4a10c30d-126f-4576-a4c6-b713aa59ec00"
      },
      "execution_count": null,
      "outputs": [
        {
          "output_type": "stream",
          "name": "stdout",
          "text": [
            "1.0\n"
          ]
        }
      ]
    },
    {
      "cell_type": "code",
      "source": [
        "# Inversion (pour les matrices carrées non singulières)\n",
        "inverse = np.linalg.inv(array_eye)\n",
        "print(inverse)"
      ],
      "metadata": {
        "id": "paJR3Mi2DGy7",
        "colab": {
          "base_uri": "https://localhost:8080/"
        },
        "outputId": "326a5547-85ac-4957-ab05-5732a15bac05"
      },
      "execution_count": null,
      "outputs": [
        {
          "output_type": "stream",
          "name": "stdout",
          "text": [
            "[[1. 0. 0.]\n",
            " [0. 1. 0.]\n",
            " [0. 0. 1.]]\n"
          ]
        }
      ]
    },
    {
      "cell_type": "code",
      "source": [
        "#Déterminant\n",
        "determinant=np.linalg.det(array_eye)\n",
        "print(determinant)"
      ],
      "metadata": {
        "id": "aV6cfJI2DG2F"
      },
      "execution_count": null,
      "outputs": []
    },
    {
      "cell_type": "code",
      "source": [],
      "metadata": {
        "id": "3d2aqKLKDG4n"
      },
      "execution_count": null,
      "outputs": []
    },
    {
      "cell_type": "markdown",
      "source": [
        "**Accéder aux éléments, sélectionner, modifier et mettre à jour un numpy array**"
      ],
      "metadata": {
        "id": "syX4tBSrDkAK"
      }
    },
    {
      "cell_type": "code",
      "source": [
        "# Accès aux éléments\n",
        "array1 = np.array([1,2,3,4,5])\n",
        "premier_element = array1[0]\n",
        "print(premier_element)"
      ],
      "metadata": {
        "id": "BQJU10BRDG7S",
        "colab": {
          "base_uri": "https://localhost:8080/"
        },
        "outputId": "07c68045-bff4-4c91-9177-da9db2d97557"
      },
      "execution_count": null,
      "outputs": [
        {
          "output_type": "stream",
          "name": "stdout",
          "text": [
            "1\n"
          ]
        }
      ]
    },
    {
      "cell_type": "code",
      "source": [
        "array1[2]"
      ],
      "metadata": {
        "id": "3XzeZwNvDG9k",
        "colab": {
          "base_uri": "https://localhost:8080/"
        },
        "outputId": "8420f7dd-2ede-4c22-d26e-8de0f08c4d75"
      },
      "execution_count": null,
      "outputs": [
        {
          "output_type": "execute_result",
          "data": {
            "text/plain": [
              "3"
            ]
          },
          "metadata": {},
          "execution_count": 39
        }
      ]
    },
    {
      "cell_type": "code",
      "source": [
        "# Modification d'un élément\n",
        "array1[0] = 15\n",
        "print(array1)"
      ],
      "metadata": {
        "id": "PLMzOUBrDHAW",
        "colab": {
          "base_uri": "https://localhost:8080/"
        },
        "outputId": "3ee200ec-1f95-4ffb-e8de-437d4b2cad60"
      },
      "execution_count": null,
      "outputs": [
        {
          "output_type": "stream",
          "name": "stdout",
          "text": [
            "[15  2  3  4  5]\n"
          ]
        }
      ]
    },
    {
      "cell_type": "code",
      "source": [
        "# Sélection des éléments qui respectent une condition\n",
        "elements_respectant_condition = array1[array1 > 2]\n",
        "elements_respectant_condition"
      ],
      "metadata": {
        "id": "QwHMMoRJDHDB",
        "colab": {
          "base_uri": "https://localhost:8080/"
        },
        "outputId": "502975f4-8c69-4ee5-d0e7-299088758936"
      },
      "execution_count": null,
      "outputs": [
        {
          "output_type": "execute_result",
          "data": {
            "text/plain": [
              "array([15,  3,  4,  5])"
            ]
          },
          "metadata": {},
          "execution_count": 42
        }
      ]
    },
    {
      "cell_type": "code",
      "source": [
        "condition = array1 > 3\n",
        "condition\n",
        "indices = np.where(array1 > 3)\n",
        "indices"
      ],
      "metadata": {
        "id": "lWQVY-gvDHGC",
        "colab": {
          "base_uri": "https://localhost:8080/"
        },
        "outputId": "21bab6c3-ddf6-4a43-803a-4d5aab43ab95"
      },
      "execution_count": null,
      "outputs": [
        {
          "output_type": "execute_result",
          "data": {
            "text/plain": [
              "(array([0, 3, 4]),)"
            ]
          },
          "metadata": {},
          "execution_count": 43
        }
      ]
    },
    {
      "cell_type": "code",
      "source": [
        "# Mise à jour d'un numpy array\n",
        "array1[condition] = 0\n",
        "print(array1)\n"
      ],
      "metadata": {
        "id": "wfzqIVqrDHLW"
      },
      "execution_count": null,
      "outputs": []
    },
    {
      "cell_type": "code",
      "source": [
        "# Utilisation de where\n",
        "array = np.array([-1, 0, 1, 2, 3])\n",
        "\n",
        "resultat = np.where(array > 0, 1, 0)\n",
        "\n",
        "print(resultat)\n"
      ],
      "metadata": {
        "id": "-9TPsC3oMJoO"
      },
      "execution_count": null,
      "outputs": []
    },
    {
      "cell_type": "code",
      "source": [
        "# Utilisation de where\n",
        "array = np.array([1, 2, 3, 4, 5])\n",
        "\n",
        "resultat = np.where(array % 2 == 0, \"pair\", \"impair\")\n",
        "\n",
        "print(resultat)\n"
      ],
      "metadata": {
        "id": "vusi9wmWMJ62"
      },
      "execution_count": null,
      "outputs": []
    },
    {
      "cell_type": "code",
      "source": [
        "# Utilisation de sort\n",
        "array = np.array([5, 2, 1, 3, 4])\n",
        "\n",
        "resultat = np.sort(array)\n",
        "\n",
        "print(resultat)\n"
      ],
      "metadata": {
        "id": "9qhi7JM7PEmg"
      },
      "execution_count": null,
      "outputs": []
    },
    {
      "cell_type": "code",
      "source": [
        "# Utilisation de sort\n",
        "array = np.array([[1, 2], [3, 4], [5, 6]])\n",
        "\n",
        "resultat = np.sort(array, axis=0)\n",
        "\n",
        "print(resultat)\n"
      ],
      "metadata": {
        "id": "o5jhL3PMPEr0"
      },
      "execution_count": null,
      "outputs": []
    },
    {
      "cell_type": "code",
      "source": [
        "## Utilisation de argsort\n",
        "array = np.array([5, 2, 1, 3, 4])\n",
        "\n",
        "resultat = np.argsort(array)\n",
        "\n",
        "print(resultat)\n"
      ],
      "metadata": {
        "id": "cbNh5iHbPEux"
      },
      "execution_count": null,
      "outputs": []
    },
    {
      "cell_type": "code",
      "source": [
        "#  Slicing et indexation avancée\n",
        "arrayT = np.array([[1, 2, 3], [4, 5, 6], [7, 8, 9]])\n",
        "\n",
        "\n",
        "# Indexation simple\n",
        "\n",
        "premiere_ligne = arrayT[0, :]\n",
        "print(premiere_ligne)\n",
        "\n",
        "\n",
        "deuxieme_colonne = arrayT[:, 1]\n",
        "print(deuxieme_colonne)\n",
        "\n"
      ],
      "metadata": {
        "id": "p9SUXwVFDHNv",
        "colab": {
          "base_uri": "https://localhost:8080/"
        },
        "outputId": "a4640e34-8ac4-44b9-83eb-44d6fb6aebe6"
      },
      "execution_count": null,
      "outputs": [
        {
          "output_type": "execute_result",
          "data": {
            "text/plain": [
              "array([1, 2, 3])"
            ]
          },
          "metadata": {},
          "execution_count": 3
        }
      ]
    },
    {
      "cell_type": "code",
      "source": [
        "# Slicing\n",
        "\n",
        "deux_premieres_lignes = arrayT[:2, :]\n",
        "print(deux_premieres_lignes)\n",
        "\n",
        "\n",
        "deux_dernieres_lignes = arrayT[1:, :]\n",
        "print(deux_dernieres_lignes)\n",
        "\n",
        "\n",
        "deux_premieres_colonnes = arrayT[:, :2]\n",
        "print(deux_premieres_colonnes)\n",
        "\n",
        "\n",
        "deux_dernieres_colonnes = arrayT[:, 1:]\n",
        "print(deux_dernieres_colonnes)"
      ],
      "metadata": {
        "id": "v6TAyPP9DHQZ"
      },
      "execution_count": null,
      "outputs": []
    },
    {
      "cell_type": "code",
      "source": [
        "\n",
        "# Indexation avancée\n",
        "\n",
        "elements_premiere_ligne_a_partir_du_troisieme = arrayT[0, 2:]\n",
        "print(elements_premiere_ligne_a_partir_du_troisieme)\n",
        "\n",
        "\n",
        "elements_deuxieme_colonne_a_partir_du_quatrieme = arrayT[:, 3:]\n",
        "print(elements_deuxieme_colonne_a_partir_du_quatrieme)\n",
        "\n",
        "\n",
        "diagonale = arrayT.diagonal()\n",
        "print(diagonale)\n",
        "\n",
        "\n",
        "sous_matrice = arrayT[1:3, 1:3]\n",
        "print(sous_matrice)"
      ],
      "metadata": {
        "id": "I_6cBz9OAWUq"
      },
      "execution_count": null,
      "outputs": []
    },
    {
      "cell_type": "code",
      "source": [],
      "metadata": {
        "id": "FOXz9R7oAWX0"
      },
      "execution_count": null,
      "outputs": []
    },
    {
      "cell_type": "code",
      "source": [
        "# Opérations élémentaires et diffusion (broadcasting)\n",
        "array7 = np.array([1, 2, 3])\n",
        "array8 = np.array([4, 5, 6])\n",
        "\n",
        "\n",
        "# Addition élémentaire\n",
        "array_addition = array7 + array8\n",
        "array_addition"
      ],
      "metadata": {
        "id": "Y2t2OUdyDHYN"
      },
      "execution_count": null,
      "outputs": []
    },
    {
      "cell_type": "code",
      "source": [
        "# Multiplication élémentaire\n",
        "array_multiplication = array7 * array8\n",
        "array_multiplication"
      ],
      "metadata": {
        "id": "PV0yr303DHak"
      },
      "execution_count": null,
      "outputs": []
    },
    {
      "cell_type": "code",
      "source": [
        "# Diffusion (broadcasting)\n",
        "array9 = np.array([[1, 2, 3], [4, 5, 6], [7, 8, 9]])\n",
        "array10 = np.array([1, 2, 3])\n",
        "array9+array10"
      ],
      "metadata": {
        "id": "OPW4-EQBDHc4"
      },
      "execution_count": null,
      "outputs": []
    },
    {
      "cell_type": "markdown",
      "source": [
        "**Redimensionnement, append, type de données taille etc**"
      ],
      "metadata": {
        "id": "2pO1W1AGEqZN"
      }
    },
    {
      "cell_type": "code",
      "source": [
        "#Redimensionné le numpy array\n",
        "array3 = np.arange(9)\n",
        "array3_redimensionne = array3.reshape((3, 3))\n",
        "print(array3_redimensionne)"
      ],
      "metadata": {
        "id": "PA08iLM2DHog"
      },
      "execution_count": null,
      "outputs": []
    },
    {
      "cell_type": "code",
      "source": [
        "array3 = np.arange(9)\n",
        "array3"
      ],
      "metadata": {
        "id": "QhYXgGMx-Sh2"
      },
      "execution_count": null,
      "outputs": []
    },
    {
      "cell_type": "code",
      "source": [
        "#Ajouter des éléments dans un numpy array\n",
        "array1_allonge = np.append(array1, [6, 7, 8])\n",
        "print(array1_allonge)"
      ],
      "metadata": {
        "id": "T3mmSje-E0h-"
      },
      "execution_count": null,
      "outputs": []
    },
    {
      "cell_type": "code",
      "source": [
        "#Connaitre les caractéristiques d'un numpy array\n",
        "array_matrice.shape"
      ],
      "metadata": {
        "id": "wq6Oh6U8E0kx"
      },
      "execution_count": null,
      "outputs": []
    },
    {
      "cell_type": "code",
      "source": [
        "#Connaitre le type de l'objet\n",
        "type(array_matrice)"
      ],
      "metadata": {
        "id": "Rq-0j2G6E0ne"
      },
      "execution_count": null,
      "outputs": []
    },
    {
      "cell_type": "code",
      "source": [
        "#Connaitre le type des éléments\n",
        "array1.dtype"
      ],
      "metadata": {
        "id": "YGeIe2uyE0qH"
      },
      "execution_count": null,
      "outputs": []
    },
    {
      "cell_type": "code",
      "source": [],
      "metadata": {
        "id": "VKmKQYGWE0t0"
      },
      "execution_count": null,
      "outputs": []
    }
  ],
  "metadata": {
    "colab": {
      "provenance": []
    },
    "kernelspec": {
      "display_name": "Python 3",
      "name": "python3"
    }
  },
  "nbformat": 4,
  "nbformat_minor": 0
}